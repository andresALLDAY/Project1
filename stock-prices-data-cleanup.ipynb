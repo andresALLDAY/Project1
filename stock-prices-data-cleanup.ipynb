{
 "cells": [
  {
   "cell_type": "code",
   "execution_count": 1,
   "metadata": {},
   "outputs": [],
   "source": [
    "import matplotlib.pyplot as plt\n",
    "import pandas as pd\n",
    "import numpy as np\n",
    "import requests\n",
    "import time\n",
    "from scipy.stats import linregress\n",
    "from alpha_vantage.timeseries import TimeSeries\n",
    "from alpha_vantage.sectorperformance import SectorPerformances\n",
    "from config import akey"
   ]
  },
  {
   "cell_type": "code",
   "execution_count": 25,
   "metadata": {},
   "outputs": [],
   "source": [
    "file = 'api-data/stock_prices.csv'\n",
    "stock_prices = pd.read_csv(file)\n",
    "\n",
    "stock_prices['index.1'] = pd.to_datetime(stock_prices['index.1'], format='%Y-%m-%d')\n",
    "stock_prices.rename(columns={'index':'old_index', 'index.1': 'Date', '1. open': 'Open', '2. high':'High', \n",
    "                             '3. low':'Low','4. close':'Close', '5. volume':'Daily Volume'}, inplace=True)\n",
    "stock_prices.drop(columns=['old_index'], inplace=True)\n",
    "stock_prices.set_index('Date', inplace=True)\n",
    "stock_prices.to_csv('api-data/cleaned_stock_prices.csv')"
   ]
  },
  {
   "cell_type": "code",
   "execution_count": 26,
   "metadata": {},
   "outputs": [
    {
     "data": {
      "text/html": [
       "<div>\n",
       "<style scoped>\n",
       "    .dataframe tbody tr th:only-of-type {\n",
       "        vertical-align: middle;\n",
       "    }\n",
       "\n",
       "    .dataframe tbody tr th {\n",
       "        vertical-align: top;\n",
       "    }\n",
       "\n",
       "    .dataframe thead th {\n",
       "        text-align: right;\n",
       "    }\n",
       "</style>\n",
       "<table border=\"1\" class=\"dataframe\">\n",
       "  <thead>\n",
       "    <tr style=\"text-align: right;\">\n",
       "      <th></th>\n",
       "      <th>Open</th>\n",
       "      <th>High</th>\n",
       "      <th>Low</th>\n",
       "      <th>Close</th>\n",
       "      <th>Daily Volume</th>\n",
       "      <th>Ticker</th>\n",
       "    </tr>\n",
       "    <tr>\n",
       "      <th>Date</th>\n",
       "      <th></th>\n",
       "      <th></th>\n",
       "      <th></th>\n",
       "      <th></th>\n",
       "      <th></th>\n",
       "      <th></th>\n",
       "    </tr>\n",
       "  </thead>\n",
       "  <tbody>\n",
       "    <tr>\n",
       "      <th>2020-12-15</th>\n",
       "      <td>21.70</td>\n",
       "      <td>22.11</td>\n",
       "      <td>16.580</td>\n",
       "      <td>17.99</td>\n",
       "      <td>23931715.0</td>\n",
       "      <td>AAN</td>\n",
       "    </tr>\n",
       "    <tr>\n",
       "      <th>2020-12-15</th>\n",
       "      <td>21.70</td>\n",
       "      <td>22.11</td>\n",
       "      <td>16.580</td>\n",
       "      <td>17.99</td>\n",
       "      <td>23931715.0</td>\n",
       "      <td>AAN</td>\n",
       "    </tr>\n",
       "    <tr>\n",
       "      <th>2020-12-15</th>\n",
       "      <td>8.33</td>\n",
       "      <td>8.53</td>\n",
       "      <td>7.620</td>\n",
       "      <td>8.41</td>\n",
       "      <td>6979264.0</td>\n",
       "      <td>AAOI</td>\n",
       "    </tr>\n",
       "    <tr>\n",
       "      <th>2020-11-30</th>\n",
       "      <td>8.82</td>\n",
       "      <td>10.20</td>\n",
       "      <td>7.200</td>\n",
       "      <td>8.31</td>\n",
       "      <td>17670623.0</td>\n",
       "      <td>AAOI</td>\n",
       "    </tr>\n",
       "    <tr>\n",
       "      <th>2020-10-30</th>\n",
       "      <td>11.40</td>\n",
       "      <td>11.94</td>\n",
       "      <td>8.469</td>\n",
       "      <td>8.78</td>\n",
       "      <td>8911887.0</td>\n",
       "      <td>AAOI</td>\n",
       "    </tr>\n",
       "  </tbody>\n",
       "</table>\n",
       "</div>"
      ],
      "text/plain": [
       "             Open   High     Low  Close  Daily Volume Ticker\n",
       "Date                                                        \n",
       "2020-12-15  21.70  22.11  16.580  17.99    23931715.0    AAN\n",
       "2020-12-15  21.70  22.11  16.580  17.99    23931715.0    AAN\n",
       "2020-12-15   8.33   8.53   7.620   8.41     6979264.0   AAOI\n",
       "2020-11-30   8.82  10.20   7.200   8.31    17670623.0   AAOI\n",
       "2020-10-30  11.40  11.94   8.469   8.78     8911887.0   AAOI"
      ]
     },
     "execution_count": 26,
     "metadata": {},
     "output_type": "execute_result"
    }
   ],
   "source": [
    "stock_prices.head()"
   ]
  },
  {
   "cell_type": "code",
   "execution_count": 35,
   "metadata": {},
   "outputs": [],
   "source": [
    "years = ['2015','2016','2017','2018','2019','2020']\n",
    "for year in years:\n",
    "    year = stock_prices[f'{year}-01-01':f'{year}-12-31'].to_csv(f'api-data/yearly_summary/prices_for_{year}.csv')"
   ]
  },
  {
   "cell_type": "code",
   "execution_count": null,
   "metadata": {},
   "outputs": [],
   "source": []
  }
 ],
 "metadata": {
  "kernelspec": {
   "display_name": "Python 3",
   "language": "python",
   "name": "python3"
  },
  "language_info": {
   "codemirror_mode": {
    "name": "ipython",
    "version": 3
   },
   "file_extension": ".py",
   "mimetype": "text/x-python",
   "name": "python",
   "nbconvert_exporter": "python",
   "pygments_lexer": "ipython3",
   "version": "3.6.10"
  }
 },
 "nbformat": 4,
 "nbformat_minor": 4
}
